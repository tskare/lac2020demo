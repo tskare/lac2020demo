{
 "cells": [
  {
   "cell_type": "markdown",
   "metadata": {},
   "source": [
    "# Calling STK/C++ Code from Julia\n",
    "\n",
    "As a prerequisite, we ensure CxxWrap is installed:"
   ]
  },
  {
   "cell_type": "code",
   "execution_count": 1,
   "metadata": {},
   "outputs": [],
   "source": [
    "using CxxWrap"
   ]
  },
  {
   "cell_type": "markdown",
   "metadata": {},
   "source": [
    "## Step 1: Generate C++ shared library\n",
    "\n",
    "This must be done outside the notebook. We explain the process in the paper and provide our modified BiQuad class and cmake files; resources are also available online.\n",
    "\n",
    "## Step 2: Load Module in Julia:\n",
    "\n",
    "Here, you should replace the path to the home directory (additionally we should constant-ify it or have it be a form entry)"
   ]
  },
  {
   "cell_type": "code",
   "execution_count": null,
   "metadata": {},
   "outputs": [],
   "source": [
    "module STKBiquad\n",
    "  using CxxWrap\n",
    "  @wrapmodule(\"/home/travis/src/third_party/stk/src/lib/libbiquadtestlib.so\",:define_module_biquad2)\n",
    "\n",
    "  function __init__()\n",
    "    @initcxx\n",
    "  end\n",
    "end"
   ]
  },
  {
   "cell_type": "code",
   "execution_count": null,
   "metadata": {},
   "outputs": [],
   "source": [
    "  # @wrapmodule(\"/home/travis/src/third_party/stk/src/lib/libbiquadtestlib\", :define_module_biquad)\n",
    "  # using a different entry point here, for demo"
   ]
  },
  {
   "cell_type": "markdown",
   "metadata": {},
   "source": [
    "## Step 3: Call function\n",
    "\n",
    "More on shared library calling is available in the following notebooks."
   ]
  },
  {
   "cell_type": "code",
   "execution_count": 1,
   "metadata": {},
   "outputs": [
    {
     "ename": "UndefVarError",
     "evalue": "UndefVarError: STKBiquad not defined",
     "output_type": "error",
     "traceback": [
      "UndefVarError: STKBiquad not defined",
      "",
      "Stacktrace:",
      " [1] top-level scope at In[1]:1"
     ]
    }
   ],
   "source": [
    "filter = STKBiquad.BiQuad()\n",
    "\n",
    "# Tick a few samples of fs*2/3 and get result\n",
    "filter.setCoefficients(1, 0.5, 1, 0.5)\n",
    "filter.tickOne(1)\n",
    "filter.tickOne(0)\n",
    "filter.tickOne(0)\n",
    "filter.tickOne(1)\n",
    "filter.tickOne(0)\n",
    "filter.tickOne(0)\n",
    "filter.tickOne(1)\n",
    "filter.tickOne(0)\n",
    "x = filter.tickOne(0)"
   ]
  },
  {
   "cell_type": "code",
   "execution_count": 2,
   "metadata": {},
   "outputs": [
    {
     "ename": "UndefVarError",
     "evalue": "UndefVarError: x not defined",
     "output_type": "error",
     "traceback": [
      "UndefVarError: x not defined",
      "",
      "Stacktrace:",
      " [1] top-level scope at In[2]:1"
     ]
    }
   ],
   "source": [
    "print(x)"
   ]
  }
 ],
 "metadata": {
  "kernelspec": {
   "display_name": "Julia 1.3.1",
   "language": "julia",
   "name": "julia-1.3"
  },
  "language_info": {
   "file_extension": ".jl",
   "mimetype": "application/julia",
   "name": "julia",
   "version": "1.3.1"
  }
 },
 "nbformat": 4,
 "nbformat_minor": 4
}
