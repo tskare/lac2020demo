{
 "cells": [
  {
   "cell_type": "markdown",
   "metadata": {},
   "source": [
    "# Invoking a LADSPA plugin from Python\n",
    "\n",
    "After installing the LADSPA sdk, you can likely enumerate available plugins by typing <pre>listplugins</pre> at a terminal.\n",
    "\n",
    "The LADSPA v1 header is useful to keep open while reading:\n",
    "\n",
    "https://www.ladspa.org/ladspa_sdk/ladspa.h.txt\n",
    "\n",
    "Here we load a digital delay line included with the SDK:"
   ]
  },
  {
   "cell_type": "code",
   "execution_count": 1,
   "metadata": {},
   "outputs": [],
   "source": [
    "import ctypes\n",
    "import numpy as np\n",
    "\n",
    "# Declare interfaces to the structures and functions we'll call.\n",
    "\n",
    "# typedefs and constants\n",
    "LADSPA_Data = ctypes.c_float\n",
    "LADSPA_Properties = ctypes.c_int\n",
    "LADSPA_Handle = ctypes.c_void_p\n",
    "\n",
    "LADSPA_PortDescriptor = ctypes.c_int\n",
    "kLADSPA_PORT_INPUT   = 0x1\n",
    "kLADSPA_PORT_OUTPUT = 0x2\n",
    "\n",
    "LADSPA_PortRangeHintDescriptor = ctypes.c_int;\n",
    "# hint constants omitted for brevity; reference the .h file.\n",
    "\n",
    "class LADSPA_PortRangeHint(ctypes.Structure):\n",
    "    pass\n",
    "LADSPA_PortRangeHint._fields = [\n",
    "    (\"HintDescriptor\", LADSPA_PortRangeHintDescriptor),\n",
    "    (\"LowerBound\", LADSPA_Data),\n",
    "    (\"UpperBound\", LADSPA_Data)\n",
    "]\n",
    "\n",
    "class LADSPA_Descriptor(ctypes.Structure):\n",
    "    pass\n",
    "LADSPA_Descriptor._fields_= [\n",
    "    (\"UniqueID\", ctypes.c_long),\n",
    "    (\"Label\", ctypes.c_char_p),\n",
    "    (\"Properties\", LADSPA_Properties),\n",
    "    (\"Name\", ctypes.c_char_p),\n",
    "    (\"Maker\", ctypes.c_char_p),\n",
    "    (\"Copyright\", ctypes.c_char_p),\n",
    "    (\"PortCount\", ctypes.c_ulong),\n",
    "    (\"PortDescriptors\", ctypes.POINTER(LADSPA_PortDescriptor)),\n",
    "    (\"PortNames\", ctypes.POINTER(ctypes.c_char_p)),\n",
    "    (\"PortRangeHints\", ctypes.POINTER(LADSPA_PortRangeHint)),\n",
    "    (\"ImplementationData\", ctypes.c_void_p),\n",
    "    \n",
    "    # Interface is via function pointers in the struct.\n",
    "    (\"instantiate\", ctypes.CFUNCTYPE(LADSPA_Handle, ctypes.POINTER(LADSPA_Descriptor), ctypes.c_ulong)),\n",
    "    (\"connect_port\", ctypes.CFUNCTYPE(ctypes.c_int, LADSPA_Handle, ctypes.c_ulong)),\n",
    "    (\"activate\", ctypes.CFUNCTYPE(ctypes.c_int, LADSPA_Handle)),\n",
    "    (\"run\", ctypes.CFUNCTYPE(ctypes.c_int, LADSPA_Handle)),\n",
    "    (\"run_adding\", ctypes.CFUNCTYPE(ctypes.c_int, LADSPA_Handle, ctypes.c_ulong)),\n",
    "    (\"run_adding_gain\", ctypes.CFUNCTYPE(ctypes.c_int, LADSPA_Handle, LADSPA_Data)),\n",
    "    (\"deactivate\", ctypes.CFUNCTYPE(ctypes.c_int, LADSPA_Handle)),\n",
    "    (\"cleanup\", ctypes.CFUNCTYPE(ctypes.c_int, LADSPA_Handle))\n",
    "]\n",
    "\n",
    "# The actual library has only one function.\n",
    "# The argument, |index|, can choose one of N plugins in the library.\n",
    "# Indices beyond that range are NULL.\n",
    "def loadPlugin(name = '/usr/lib/ladspa/delay.so', index=0):\n",
    "    plugin = ctypes.CDLL(name)\n",
    "    plugin.ladspa_descriptor.argtypes = [ctypes.c_ulong]\n",
    "    plugin.ladspa_descriptor.restype = ctypes.POINTER(LADSPA_Descriptor)\n",
    "    return plugin.ladspa_descriptor(index)\n"
   ]
  },
  {
   "cell_type": "markdown",
   "metadata": {},
   "source": [
    "## Load a plugin and get metadata"
   ]
  },
  {
   "cell_type": "code",
   "execution_count": 2,
   "metadata": {},
   "outputs": [
    {
     "name": "stdout",
     "output_type": "stream",
     "text": [
      "Plugin: b'Simple Delay Line' by: b'Richard Furse (LADSPA example plugins)', (c) b'None'\n",
      "ports:\n",
      "b'Delay (Seconds)' - 5\n",
      "b'Dry/Wet Balance' - 5\n",
      "b'Input' - 9\n",
      "b'Output' - 10\n"
     ]
    }
   ],
   "source": [
    "plugHandle = 0\n",
    "plugPtr = loadPlugin()\n",
    "plugInst = plugPtr[0] # dereference pointer\n",
    "print(\"Plugin: %s by: %s, (c) %s\" % (plugInst.Name, plugInst.Maker, plugInst.Copyright))\n",
    "print(\"ports:\")\n",
    "for i in range(plugInst.PortCount):\n",
    "    print(\"%s - %s\" % (plugInst.PortNames[i], plugInst.PortDescriptors[i]))"
   ]
  },
  {
   "cell_type": "markdown",
   "metadata": {},
   "source": [
    "## Create a plugin instance and run some audio through it"
   ]
  },
  {
   "cell_type": "code",
   "execution_count": 52,
   "metadata": {},
   "outputs": [],
   "source": [
    "if plugHandle == 0:\n",
    "  plugHandle = plugInst.instantiate(plugPtr, 44100)\n",
    "\n",
    "# Connect ports\n",
    "AUDIO_BUFFER_LEN = 512\n",
    "control0 = [1.0]  # Delay(seconds), default. Should obtain from LADSPA hint.\n",
    "control1 = [0.5]  # wet/dry mix, default\n",
    "\n",
    "# Create actual control port buffers.\n",
    "b0 = (ctypes.c_float * 1)(*control0)\n",
    "b1 = (ctypes.c_float * 1)(*control1)\n",
    "inbuf_proto = [0.0]*AUDIO_BUFFER_LEN\n",
    "outbuf_proto = [0.0]*AUDIO_BUFFER_LEN\n",
    "bufIn = (ctypes.c_float * AUDIO_BUFFER_LEN)(*inbuf_proto)\n",
    "bufOut = (ctypes.c_float * AUDIO_BUFFER_LEN)(*outbuf_proto)\n",
    "\n",
    "buffer2 = ctypes.create_string_buffer(8 * AUDIO_BUFFER_LEN)\n",
    "buffer3 = ctypes.create_string_buffer(8 * AUDIO_BUFFER_LEN)\n",
    "\n",
    "plugInst.connect_port(plugHandle, 0, b0)\n",
    "plugInst.connect_port(plugHandle, 1, b1)\n",
    "plugInst.connect_port(plugHandle, 2, bufIn)\n",
    "plugInst.connect_port(plugHandle, 3, bufOut)\n",
    "plugInst.activate(plugHandle)\n",
    "\n",
    "# Delay in seconds to 0.01s (441 samples at 44.1kHz)\n",
    "inBuf = [0.0] * AUDIO_BUFFER_LEN\n",
    "outBuf = [0.0] * AUDIO_BUFFER_LEN\n",
    "# set up a simple input signal\n",
    "for i in range(100):\n",
    "    inBuf[i] = 0.2\n",
    "inBuf[10] = 1.0\n",
    "inBuf[12] = -0.5\n",
    "inBuf[14] = 0.25\n",
    "\n",
    "inBuf_copy = np.copy(inBuf)  # for future comparison, if needed"
   ]
  },
  {
   "cell_type": "code",
   "execution_count": 53,
   "metadata": {},
   "outputs": [],
   "source": [
    "inBuf_ptr = ctypes.cast(buffer2.raw, ctypes.POINTER(ctypes.c_float))\n",
    "outBuf_ptr = ctypes.cast(buffer3.raw, ctypes.POINTER(ctypes.c_float))"
   ]
  },
  {
   "cell_type": "code",
   "execution_count": 54,
   "metadata": {},
   "outputs": [
    {
     "data": {
      "text/plain": [
       "[<__main__.LP_c_float at 0x7fda28e3e710>,\n",
       " <__main__.LP_c_float at 0x7fda28e3ed40>]"
      ]
     },
     "execution_count": 54,
     "metadata": {},
     "output_type": "execute_result"
    }
   ],
   "source": [
    "[inBuf_ptr, outBuf_ptr]"
   ]
  },
  {
   "cell_type": "code",
   "execution_count": 61,
   "metadata": {},
   "outputs": [
    {
     "data": {
      "text/plain": [
       "[0.0,\n",
       " 0.0,\n",
       " 0.10000000149011612,\n",
       " 0.10000000149011612,\n",
       " 0.10000000149011612,\n",
       " 0.10000000149011612,\n",
       " 0.10000000149011612,\n",
       " 0.10000000149011612,\n",
       " 0.10000000149011612,\n",
       " 0.10000000149011612,\n",
       " 0.10000000149011612,\n",
       " 0.10000000149011612,\n",
       " 0.5,\n",
       " 0.10000000149011612,\n",
       " -0.25,\n",
       " 0.10000000149011612,\n",
       " 0.125]"
      ]
     },
     "execution_count": 61,
     "metadata": {},
     "output_type": "execute_result"
    }
   ],
   "source": [
    "for i in range(AUDIO_BUFFER_LEN):\n",
    "    # inBuf_ptr[i] = ctypes.c_float(inBuf[i])\n",
    "    bufIn[i] = ctypes.c_float(inBuf[i])\n",
    "\n",
    "outputBuf = []\n",
    "for i in range(100):\n",
    "    for i in range(AUDIO_BUFFER_LEN):\n",
    "        bufOut[i] = 0\n",
    "    plugInst.run(plugHandle, AUDIO_BUFFER_LEN)\n",
    "    # Copy out data back out.\n",
    "    # Again could likely just create an alias and cast instead.\n",
    "    for i in range(AUDIO_BUFFER_LEN):\n",
    "        outBuf[i] = bufOut[i]\n",
    "    outputBuf.extend(outBuf)\n",
    "    # zero out input\n",
    "    for i in range(AUDIO_BUFFER_LEN):\n",
    "        bufIn[i] = 0\n",
    "\n",
    "# Do we have a half-amplitude copy of our signal after 1s?\n",
    "window_start = int(1 * 44100)\n",
    "outputBuf[window_start-2:window_start+15]"
   ]
  },
  {
   "cell_type": "markdown",
   "metadata": {},
   "source": [
    "## Data is available for plotting:"
   ]
  },
  {
   "cell_type": "code",
   "execution_count": 57,
   "metadata": {},
   "outputs": [],
   "source": [
    "import numpy as np\n",
    "import matplotlib.pyplot as plt"
   ]
  },
  {
   "cell_type": "code",
   "execution_count": 58,
   "metadata": {},
   "outputs": [
    {
     "data": {
      "text/plain": [
       "[<matplotlib.lines.Line2D at 0x7fda2908cdd0>]"
      ]
     },
     "execution_count": 58,
     "metadata": {},
     "output_type": "execute_result"
    },
    {
     "data": {
      "image/png": "[encoded data removed]",
      "text/plain": [
       "<Figure size 1080x432 with 1 Axes>"
      ]
     },
     "metadata": {
      "needs_background": "light"
     },
     "output_type": "display_data"
    }
   ],
   "source": [
    "fig = plt.figure(figsize=(15,6))\n",
    "plt.title('LADSPA effect input and output')\n",
    "plt.plot(inBuf)\n",
    "plt.plot(outputBuf)"
   ]
  },
  {
   "cell_type": "code",
   "execution_count": null,
   "metadata": {},
   "outputs": [],
   "source": []
  },
  {
   "cell_type": "code",
   "execution_count": null,
   "metadata": {},
   "outputs": [],
   "source": []
  }
 ],
 "metadata": {
  "kernelspec": {
   "display_name": "Python 3",
   "language": "python",
   "name": "python3"
  },
  "language_info": {
   "codemirror_mode": {
    "name": "ipython",
    "version": 3
   },
   "file_extension": ".py",
   "mimetype": "text/x-python",
   "name": "python",
   "nbconvert_exporter": "python",
   "pygments_lexer": "ipython3",
   "version": "3.7.4"
  }
 },
 "nbformat": 4,
 "nbformat_minor": 4
}
